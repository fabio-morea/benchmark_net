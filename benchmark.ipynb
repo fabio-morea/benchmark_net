{
 "cells": [
  {
   "cell_type": "code",
   "execution_count": 4,
   "metadata": {},
   "outputs": [],
   "source": [
    "\n",
    "import networkx as nx\n",
    "import numpy as np\n",
    "import pandas as pd\n",
    "import igraph as ig\n",
    "from networkx.generators.community import LFR_benchmark_graph\n",
    "import sklearn.metrics\n",
    "\n",
    "import seaborn as sns\n",
    "import matplotlib.pyplot as plt"
   ]
  },
  {
   "attachments": {},
   "cell_type": "markdown",
   "metadata": {},
   "source": [
    "The parameters of the LFR benchmark graphs are: \n",
    "average degree 〈k〉 = 20,\n",
    "maximum degree kmax = 50, \n",
    "minimum community size cmin = 10, \n",
    "maximum community size cmax = 50, \n",
    "the degree exponent is τ1 = 2, the community size exponent is τ2 = 3. Each panel correspond to a clustering algorithm, indicated by the label. The two sets of plots correspond to networks with 1000 (a) and 5000 (b) vertices."
   ]
  },
  {
   "cell_type": "code",
   "execution_count": 5,
   "metadata": {},
   "outputs": [],
   "source": [
    "\n",
    "def add_true_labels(G):\n",
    "\n",
    "    cm = [(G.nodes[v][\"community\"]) for v in G]\n",
    "    unique_cm = []\n",
    "\n",
    "    # iterate through the list of sets\n",
    "    for set_ in cm:\n",
    "        # check if the set is already in the list of unique sets\n",
    "        if set_ not in unique_cm:\n",
    "            # if not, add it to the list of unique sets\n",
    "            unique_cm.append(set_)\n",
    "\n",
    "    df = pd.DataFrame(columns=['community']) \n",
    "    for comm_id, members in enumerate(unique_cm):\n",
    "        for node in list(members):\n",
    "            df.at[node, 'community'] = comm_id + 1 \n",
    "            \n",
    "    nx.set_node_attributes(G, df.community, \"community\")\n",
    "    print(comm_id)\n",
    "    return(G)\n",
    "\n",
    " \n",
    " "
   ]
  },
  {
   "cell_type": "code",
   "execution_count": 12,
   "metadata": {},
   "outputs": [],
   "source": [
    "\n",
    "# Generate a LFR_benchmark_graph\n",
    "seed=123\n",
    "n = 1000\n",
    "tau1 = 2\n",
    "tau2 = 3\n",
    "mu = 0.5\n",
    "average_degree=5\n",
    "max_degree = 50\n",
    "min_community=  20\n",
    "max_community = 50\n",
    "max_iters = 1000"
   ]
  },
  {
   "cell_type": "code",
   "execution_count": 13,
   "metadata": {},
   "outputs": [
    {
     "name": "stdout",
     "output_type": "stream",
     "text": [
      "generating benchmark for mu =  0.05\n",
      "36\n",
      "generating benchmark for mu =  0.15\n",
      "36\n",
      "generating benchmark for mu =  0.25\n",
      "36\n",
      "generating benchmark for mu =  0.35\n",
      "36\n",
      "generating benchmark for mu =  0.45\n",
      "36\n",
      "generating benchmark for mu =  0.55\n",
      "36\n",
      "generating benchmark for mu =  0.65\n",
      "36\n",
      "generating benchmark for mu =  0.75\n",
      "36\n",
      "generating benchmark for mu =  0.85\n",
      "36\n",
      "generating benchmark for mu =  0.95\n",
      "36\n"
     ]
    }
   ],
   "source": [
    "mui_range = range(5,99,10)\n",
    " \n",
    "for mui in mui_range:\n",
    "    #generate benchmark\n",
    "    print(\"generating benchmark for mu = \", mui/100)\n",
    "    G = LFR_benchmark_graph( n=n, \n",
    "                        tau1=tau1, \n",
    "                        tau2=tau2, \n",
    "                        mu=mui/100, \n",
    "                        average_degree=average_degree, \n",
    "                        min_community=min_community, \n",
    "                        max_community=max_community,\n",
    "                        max_degree = max_degree,\n",
    "                        max_iters = max_iters,\n",
    "                        seed=seed)\n",
    "    \n",
    "    #extract true labels\n",
    "    gt = add_true_labels(G)\n",
    "    nx.write_gml(gt, f\"FLR_benchmark_{mui}.gml\")\n",
    "\n",
    "    \n"
   ]
  },
  {
   "cell_type": "code",
   "execution_count": 14,
   "metadata": {},
   "outputs": [
    {
     "name": "stdout",
     "output_type": "stream",
     "text": [
      "5\n",
      "15\n",
      "25\n",
      "35\n",
      "45\n",
      "55\n",
      "65\n",
      "75\n",
      "85\n",
      "95\n"
     ]
    }
   ],
   "source": [
    "\n",
    "results = pd.DataFrame (columns=['mu', 'nc', 'NMI']) \n",
    "for mui in mui_range:\n",
    "    print(mui)\n",
    "    g = ig.read(f\"FLR_benchmark_{str(mui)}.gml\")\n",
    "    true_labels = g.vs['community']\n",
    "    for i in range(100):\n",
    "        mm = g.community_multilevel()\n",
    "        results = results.append( {'mu':mui/100,\n",
    "                        'nc':max(mm.membership),\n",
    "                        'NMI':sklearn.metrics.normalized_mutual_info_score( true_labels, mm.membership)},\n",
    "                        ignore_index = True)"
   ]
  },
  {
   "cell_type": "code",
   "execution_count": null,
   "metadata": {},
   "outputs": [],
   "source": [
    "results.to_csv('results.csv')"
   ]
  },
  {
   "cell_type": "code",
   "execution_count": 15,
   "metadata": {},
   "outputs": [
    {
     "data": {
      "image/png": "[encoded data removed]",
      "text/plain": [
       "<Figure size 432x288 with 1 Axes>"
      ]
     },
     "metadata": {},
     "output_type": "display_data"
    }
   ],
   "source": [
    "sns.set_style(\"whitegrid\")\n",
    "pl = sns.lineplot(x=\"mu\", y=\"NMI\", data=results, estimator=np.mean, ci='sd', err_style='bars')\n",
    "pl.set(xlabel =\"mixing parameter mu\", ylabel = \"NMI\", title ='Louvain VS true labels')\n",
    "pl.set(ylim =(-0.05,1.05))\n",
    "plt.show()\n",
    "\n"
   ]
  },
  {
   "cell_type": "code",
   "execution_count": 16,
   "metadata": {},
   "outputs": [
    {
     "data": {
      "image/png": "[encoded data removed]",
      "text/plain": [
       "<Figure size 432x288 with 1 Axes>"
      ]
     },
     "metadata": {},
     "output_type": "display_data"
    }
   ],
   "source": [
    "sns.set_style(\"whitegrid\")\n",
    "pl = sns.lineplot(x=\"mu\", y=\"nc\", data=results, estimator=np.mean, ci='sd', err_style='bars')\n",
    "pl.set(xlabel =\"mixing parameter mu\", ylabel = \"number of communities\", title ='Number of communities (true laboel = 36)')\n",
    "pl.set(ylim =(0,40))\n",
    "\n",
    "plt.show()"
   ]
  }
 ],
 "metadata": {
  "kernelspec": {
   "display_name": "Python 3",
   "language": "python",
   "name": "python3"
  },
  "language_info": {
   "codemirror_mode": {
    "name": "ipython",
    "version": 3
   },
   "file_extension": ".py",
   "mimetype": "text/x-python",
   "name": "python",
   "nbconvert_exporter": "python",
   "pygments_lexer": "ipython3",
   "version": "3.9.4"
  },
  "orig_nbformat": 4
 },
 "nbformat": 4,
 "nbformat_minor": 2
}
